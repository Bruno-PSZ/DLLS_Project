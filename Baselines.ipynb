{
 "cells": [
  {
   "cell_type": "markdown",
   "id": "9aa1a7f7-5736-4a37-88b0-fda77d7c11ce",
   "metadata": {},
   "source": [
    "# Data Preparation"
   ]
  },
  {
   "cell_type": "markdown",
   "id": "33153ea4-9b60-46b9-b4ba-f2394f77f12e",
   "metadata": {},
   "source": [
    "## Loading Data"
   ]
  },
  {
   "cell_type": "markdown",
   "id": "7735dddf-49fe-4352-9e5b-666aad45161f",
   "metadata": {},
   "source": [
    "Preparing DataFrame object with markers expression and corresponding cell labels."
   ]
  },
  {
   "cell_type": "code",
   "execution_count": 1,
   "id": "e5737662-bab7-4bec-84ff-4282be65b96f",
   "metadata": {},
   "outputs": [],
   "source": [
    "import anndata\n",
    "import pandas as pd\n",
    "import numpy as np\n",
    "\n",
    "\n",
    "TRAIN_ANNDATA_PATH = \"train/cell_data.h5ad\""
   ]
  },
  {
   "cell_type": "code",
   "execution_count": 2,
   "id": "2bcb1147-e8ee-4286-ac3a-9d0887c73ead",
   "metadata": {},
   "outputs": [],
   "source": [
    "train_anndata = anndata.read_h5ad(TRAIN_ANNDATA_PATH)\n",
    "labels = list(train_anndata.obs.iloc[:, -1])"
   ]
  },
  {
   "cell_type": "code",
   "execution_count": 3,
   "id": "ce518e83-364e-49da-a15a-66267afbb38d",
   "metadata": {
    "scrolled": true
   },
   "outputs": [],
   "source": [
    "labels = list(train_anndata.obs.iloc[:, -1])\n",
    "markers_names = list(train_anndata.var[\"marker\"])"
   ]
  },
  {
   "cell_type": "code",
   "execution_count": 4,
   "id": "e833afc2-7949-4f63-b3d0-0c3a0dd2d4b6",
   "metadata": {},
   "outputs": [],
   "source": [
    "exprs_matrix = train_anndata.layers[\"exprs\"]"
   ]
  },
  {
   "cell_type": "code",
   "execution_count": 5,
   "id": "284dc8e4-8e90-44d7-9958-eb8acf134f68",
   "metadata": {},
   "outputs": [],
   "source": [
    "# Creating expression DataFrame\n",
    "df = pd.DataFrame(exprs_matrix)\n",
    "df.columns = markers_names\n",
    "\n",
    "# Adding labels column\n",
    "df[\"label\"] = labels"
   ]
  },
  {
   "cell_type": "code",
   "execution_count": 6,
   "id": "d7351946-c14c-4b41-8be0-3203a0a03596",
   "metadata": {},
   "outputs": [
    {
     "data": {
      "text/html": [
       "<div>\n",
       "<style scoped>\n",
       "    .dataframe tbody tr th:only-of-type {\n",
       "        vertical-align: middle;\n",
       "    }\n",
       "\n",
       "    .dataframe tbody tr th {\n",
       "        vertical-align: top;\n",
       "    }\n",
       "\n",
       "    .dataframe thead th {\n",
       "        text-align: right;\n",
       "    }\n",
       "</style>\n",
       "<table border=\"1\" class=\"dataframe\">\n",
       "  <thead>\n",
       "    <tr style=\"text-align: right;\">\n",
       "      <th></th>\n",
       "      <th>MPO</th>\n",
       "      <th>HistoneH3</th>\n",
       "      <th>SMA</th>\n",
       "      <th>CD16</th>\n",
       "      <th>CD38</th>\n",
       "      <th>HLADR</th>\n",
       "      <th>CD27</th>\n",
       "      <th>CD15</th>\n",
       "      <th>CD45RA</th>\n",
       "      <th>CD163</th>\n",
       "      <th>...</th>\n",
       "      <th>CD40</th>\n",
       "      <th>CD4</th>\n",
       "      <th>CD14</th>\n",
       "      <th>Ecad</th>\n",
       "      <th>CD303</th>\n",
       "      <th>CD206</th>\n",
       "      <th>cleavedPARP</th>\n",
       "      <th>DNA1</th>\n",
       "      <th>DNA2</th>\n",
       "      <th>label</th>\n",
       "    </tr>\n",
       "  </thead>\n",
       "  <tbody>\n",
       "    <tr>\n",
       "      <th>0</th>\n",
       "      <td>0.000000</td>\n",
       "      <td>1.819988</td>\n",
       "      <td>0.502650</td>\n",
       "      <td>1.265410</td>\n",
       "      <td>0.515007</td>\n",
       "      <td>3.331261</td>\n",
       "      <td>0.403800</td>\n",
       "      <td>0.455421</td>\n",
       "      <td>0.528734</td>\n",
       "      <td>2.948392</td>\n",
       "      <td>...</td>\n",
       "      <td>0.567238</td>\n",
       "      <td>1.651610</td>\n",
       "      <td>2.556218</td>\n",
       "      <td>0.777378</td>\n",
       "      <td>0.000000</td>\n",
       "      <td>3.581082</td>\n",
       "      <td>0.424273</td>\n",
       "      <td>4.761130</td>\n",
       "      <td>5.301351</td>\n",
       "      <td>MacCD163</td>\n",
       "    </tr>\n",
       "    <tr>\n",
       "      <th>1</th>\n",
       "      <td>0.135920</td>\n",
       "      <td>2.393087</td>\n",
       "      <td>1.136961</td>\n",
       "      <td>0.505529</td>\n",
       "      <td>0.605836</td>\n",
       "      <td>0.710857</td>\n",
       "      <td>0.419814</td>\n",
       "      <td>0.100110</td>\n",
       "      <td>0.743002</td>\n",
       "      <td>0.329851</td>\n",
       "      <td>...</td>\n",
       "      <td>0.603468</td>\n",
       "      <td>1.358368</td>\n",
       "      <td>1.700181</td>\n",
       "      <td>1.884778</td>\n",
       "      <td>0.068872</td>\n",
       "      <td>0.744634</td>\n",
       "      <td>0.118620</td>\n",
       "      <td>5.029241</td>\n",
       "      <td>5.530764</td>\n",
       "      <td>Mural</td>\n",
       "    </tr>\n",
       "    <tr>\n",
       "      <th>2</th>\n",
       "      <td>0.165905</td>\n",
       "      <td>2.244917</td>\n",
       "      <td>1.396334</td>\n",
       "      <td>1.744382</td>\n",
       "      <td>0.458541</td>\n",
       "      <td>4.006500</td>\n",
       "      <td>0.003607</td>\n",
       "      <td>0.562882</td>\n",
       "      <td>1.236516</td>\n",
       "      <td>1.747839</td>\n",
       "      <td>...</td>\n",
       "      <td>0.812795</td>\n",
       "      <td>1.949510</td>\n",
       "      <td>3.465199</td>\n",
       "      <td>1.743507</td>\n",
       "      <td>0.403610</td>\n",
       "      <td>2.244398</td>\n",
       "      <td>0.015141</td>\n",
       "      <td>4.418390</td>\n",
       "      <td>4.815923</td>\n",
       "      <td>DC</td>\n",
       "    </tr>\n",
       "    <tr>\n",
       "      <th>3</th>\n",
       "      <td>0.165905</td>\n",
       "      <td>1.144778</td>\n",
       "      <td>0.563216</td>\n",
       "      <td>1.166010</td>\n",
       "      <td>0.513735</td>\n",
       "      <td>2.034705</td>\n",
       "      <td>0.650242</td>\n",
       "      <td>0.250150</td>\n",
       "      <td>1.205007</td>\n",
       "      <td>0.990385</td>\n",
       "      <td>...</td>\n",
       "      <td>1.228290</td>\n",
       "      <td>2.287524</td>\n",
       "      <td>2.491710</td>\n",
       "      <td>2.268924</td>\n",
       "      <td>0.196199</td>\n",
       "      <td>0.946492</td>\n",
       "      <td>0.233095</td>\n",
       "      <td>3.736089</td>\n",
       "      <td>4.368012</td>\n",
       "      <td>Tumor</td>\n",
       "    </tr>\n",
       "    <tr>\n",
       "      <th>4</th>\n",
       "      <td>0.137497</td>\n",
       "      <td>2.210970</td>\n",
       "      <td>0.892371</td>\n",
       "      <td>0.497646</td>\n",
       "      <td>0.412840</td>\n",
       "      <td>1.499184</td>\n",
       "      <td>0.098131</td>\n",
       "      <td>0.208566</td>\n",
       "      <td>0.922874</td>\n",
       "      <td>1.255892</td>\n",
       "      <td>...</td>\n",
       "      <td>0.360098</td>\n",
       "      <td>1.445085</td>\n",
       "      <td>2.332546</td>\n",
       "      <td>2.387292</td>\n",
       "      <td>0.061568</td>\n",
       "      <td>1.632904</td>\n",
       "      <td>0.372278</td>\n",
       "      <td>4.607359</td>\n",
       "      <td>5.152041</td>\n",
       "      <td>Tumor</td>\n",
       "    </tr>\n",
       "  </tbody>\n",
       "</table>\n",
       "<p>5 rows × 41 columns</p>\n",
       "</div>"
      ],
      "text/plain": [
       "        MPO  HistoneH3       SMA      CD16      CD38     HLADR      CD27  \\\n",
       "0  0.000000   1.819988  0.502650  1.265410  0.515007  3.331261  0.403800   \n",
       "1  0.135920   2.393087  1.136961  0.505529  0.605836  0.710857  0.419814   \n",
       "2  0.165905   2.244917  1.396334  1.744382  0.458541  4.006500  0.003607   \n",
       "3  0.165905   1.144778  0.563216  1.166010  0.513735  2.034705  0.650242   \n",
       "4  0.137497   2.210970  0.892371  0.497646  0.412840  1.499184  0.098131   \n",
       "\n",
       "       CD15    CD45RA     CD163  ...      CD40       CD4      CD14      Ecad  \\\n",
       "0  0.455421  0.528734  2.948392  ...  0.567238  1.651610  2.556218  0.777378   \n",
       "1  0.100110  0.743002  0.329851  ...  0.603468  1.358368  1.700181  1.884778   \n",
       "2  0.562882  1.236516  1.747839  ...  0.812795  1.949510  3.465199  1.743507   \n",
       "3  0.250150  1.205007  0.990385  ...  1.228290  2.287524  2.491710  2.268924   \n",
       "4  0.208566  0.922874  1.255892  ...  0.360098  1.445085  2.332546  2.387292   \n",
       "\n",
       "      CD303     CD206  cleavedPARP      DNA1      DNA2     label  \n",
       "0  0.000000  3.581082     0.424273  4.761130  5.301351  MacCD163  \n",
       "1  0.068872  0.744634     0.118620  5.029241  5.530764     Mural  \n",
       "2  0.403610  2.244398     0.015141  4.418390  4.815923        DC  \n",
       "3  0.196199  0.946492     0.233095  3.736089  4.368012     Tumor  \n",
       "4  0.061568  1.632904     0.372278  4.607359  5.152041     Tumor  \n",
       "\n",
       "[5 rows x 41 columns]"
      ]
     },
     "execution_count": 6,
     "metadata": {},
     "output_type": "execute_result"
    }
   ],
   "source": [
    "df.head()"
   ]
  },
  {
   "cell_type": "markdown",
   "id": "724f873b-724a-4ac9-9016-50afcc7d3fe9",
   "metadata": {},
   "source": [
    "## Splitting Data"
   ]
  },
  {
   "cell_type": "markdown",
   "id": "c79e8f36-c7de-4d02-944f-fd4ae9efec1d",
   "metadata": {},
   "source": [
    "Splitting data into test set and training set. Then training set I split further to cross validation folds."
   ]
  },
  {
   "cell_type": "code",
   "execution_count": 7,
   "id": "8265ca61-4a33-43b7-bf5c-e582b86b1545",
   "metadata": {},
   "outputs": [],
   "source": [
    "from sklearn.model_selection import StratifiedKFold\n",
    "from sklearn.model_selection import train_test_split"
   ]
  },
  {
   "cell_type": "code",
   "execution_count": 8,
   "id": "6e6a5dcd-7e66-4b5f-9798-fab029c60465",
   "metadata": {},
   "outputs": [],
   "source": [
    "X_train, X_test, y_train, y_test = train_test_split(df[markers_names], \n",
    "                                                    df[\"label\"], \n",
    "                                                    random_state=12, \n",
    "                                                    stratify=df[\"label\"],\n",
    "                                                    shuffle=True,\n",
    "                                                    train_size=0.85\n",
    "                                                   )"
   ]
  },
  {
   "cell_type": "code",
   "execution_count": 9,
   "id": "72ccf495-8fa7-41f5-8521-664b9c93ca99",
   "metadata": {},
   "outputs": [],
   "source": [
    "skf = StratifiedKFold(n_splits=5, shuffle=True, random_state=12)"
   ]
  },
  {
   "cell_type": "code",
   "execution_count": 10,
   "id": "bb09a952-96ca-4902-bef6-3df25afcad5a",
   "metadata": {},
   "outputs": [],
   "source": [
    "folds = skf.split(X_train, y_train)"
   ]
  },
  {
   "cell_type": "markdown",
   "id": "8b995140-0774-4347-942d-f1846d3efa99",
   "metadata": {},
   "source": [
    "## Random Forest Classifier"
   ]
  },
  {
   "cell_type": "markdown",
   "id": "98116c6f-f97e-4fb5-9bf1-412041e72c29",
   "metadata": {},
   "source": [
    "Firstly I performed GridSearch for the optimal parameters:"
   ]
  },
  {
   "cell_type": "code",
   "execution_count": 11,
   "id": "7608be4d-2fa5-45dc-be26-165feab33aec",
   "metadata": {},
   "outputs": [],
   "source": [
    "from sklearn.model_selection import GridSearchCV\n",
    "from sklearn.ensemble import RandomForestClassifier"
   ]
  },
  {
   "cell_type": "code",
   "execution_count": 12,
   "id": "2f6c89e9-0c43-4be8-8e8b-abeccead1486",
   "metadata": {},
   "outputs": [],
   "source": [
    "parameters = {'n_estimators':[300, 500],\n",
    "              \"max_depth\":[15, 17, None],\n",
    "              \"criterion\":['gini'], \n",
    "              'max_features':['sqrt'], \n",
    "              \"min_samples_split\":[10]}"
   ]
  },
  {
   "cell_type": "code",
   "execution_count": 13,
   "id": "adb62433-6157-4120-9d5d-c787e5febfd6",
   "metadata": {},
   "outputs": [],
   "source": [
    "tree_grid = RandomForestClassifier(random_state=12)"
   ]
  },
  {
   "cell_type": "code",
   "execution_count": 14,
   "id": "7ddcc3d6-531f-4b9e-9cbc-88b61d3d2a6b",
   "metadata": {
    "scrolled": true
   },
   "outputs": [
    {
     "name": "stdout",
     "output_type": "stream",
     "text": [
      "Fitting 5 folds for each of 1 candidates, totalling 5 fits\n",
      "[CV 1/5] END criterion=gini, max_depth=None, max_features=sqrt, min_samples_split=10, n_estimators=500;, score=0.960 total time=31.1min\n",
      "[CV 2/5] END criterion=gini, max_depth=None, max_features=sqrt, min_samples_split=10, n_estimators=500;, score=0.961 total time=31.1min\n",
      "[CV 3/5] END criterion=gini, max_depth=None, max_features=sqrt, min_samples_split=10, n_estimators=500;, score=0.960 total time=31.2min\n",
      "[CV 4/5] END criterion=gini, max_depth=None, max_features=sqrt, min_samples_split=10, n_estimators=500;, score=0.958 total time=31.4min\n",
      "[CV 5/5] END criterion=gini, max_depth=None, max_features=sqrt, min_samples_split=10, n_estimators=500;, score=0.958 total time=31.5min\n"
     ]
    }
   ],
   "source": [
    "grid_search = GridSearchCV(tree_grid, \n",
    "                           param_grid=parameters, \n",
    "                           cv=folds, \n",
    "                           scoring='accuracy', \n",
    "                           refit=True,\n",
    "                           verbose = 4, \n",
    "                           n_jobs = -1)\n",
    "grid_res = grid_search.fit(X_train, y_train)"
   ]
  },
  {
   "cell_type": "markdown",
   "id": "61b28525-e00f-4fd8-b55f-e2bc92b78848",
   "metadata": {},
   "source": [
    "**Best overall cross-validational Accuracy was nearly 96%**"
   ]
  },
  {
   "cell_type": "code",
   "execution_count": 15,
   "id": "2070d0b8-3d2b-497a-8714-4680fa6d2c2c",
   "metadata": {},
   "outputs": [
    {
     "data": {
      "text/plain": [
       "0.9593634391308399"
      ]
     },
     "execution_count": 15,
     "metadata": {},
     "output_type": "execute_result"
    }
   ],
   "source": [
    "grid_res.best_score_"
   ]
  },
  {
   "cell_type": "code",
   "execution_count": 16,
   "id": "65acbb2d-4f7d-465c-b4ff-50deae3cca13",
   "metadata": {},
   "outputs": [
    {
     "data": {
      "text/plain": [
       "{'criterion': 'gini',\n",
       " 'max_depth': None,\n",
       " 'max_features': 'sqrt',\n",
       " 'min_samples_split': 10,\n",
       " 'n_estimators': 500}"
      ]
     },
     "execution_count": 16,
     "metadata": {},
     "output_type": "execute_result"
    }
   ],
   "source": [
    "grid_res.best_params_"
   ]
  },
  {
   "cell_type": "markdown",
   "id": "59b6dbc5-9202-4475-9bfa-9d38c1b2c8c0",
   "metadata": {},
   "source": [
    "### Model evaluation on the test set"
   ]
  },
  {
   "cell_type": "code",
   "execution_count": 17,
   "id": "b49ec52f-c8ca-46fb-a24f-40260305db8e",
   "metadata": {},
   "outputs": [],
   "source": [
    "# Packages\n",
    "from sklearn.metrics import accuracy_score\n",
    "from sklearn.metrics import f1_score\n",
    "from sklearn.metrics import classification_report\n",
    "from sklearn.metrics import confusion_matrix\n",
    "from sklearn.metrics import ConfusionMatrixDisplay\n",
    "from sklearn.metrics import roc_auc_score\n",
    "from sklearn.metrics import average_precision_score\n",
    "import matplotlib.pyplot as plt\n",
    "import pickle"
   ]
  },
  {
   "cell_type": "code",
   "execution_count": 18,
   "id": "ccb9d84c-b807-41ac-a330-4238a1652d24",
   "metadata": {},
   "outputs": [],
   "source": [
    "best_model=grid_res.best_estimator_"
   ]
  },
  {
   "cell_type": "code",
   "execution_count": 19,
   "id": "53161b9e-2bfc-475f-a209-7e7d2714423a",
   "metadata": {},
   "outputs": [],
   "source": [
    "with open(\"best_RF.pkl\", \"wb\") as f:\n",
    "    pickle.dump(best_model, f)"
   ]
  },
  {
   "cell_type": "code",
   "execution_count": 20,
   "id": "a75b9f2c-00c7-456e-8661-091129934224",
   "metadata": {},
   "outputs": [],
   "source": [
    "with open(\"best_RF.pkl\", \"rb\") as f:\n",
    "    best_model = pickle.load(f)"
   ]
  },
  {
   "cell_type": "markdown",
   "id": "cfebcd7f-8659-41ca-a766-10f7a69efc00",
   "metadata": {},
   "source": [
    "#### Global metrics (`ACC`, `macro-F1`):"
   ]
  },
  {
   "cell_type": "code",
   "execution_count": 21,
   "id": "86673ac4-81f0-4b9d-9ed4-637297fa00b8",
   "metadata": {},
   "outputs": [],
   "source": [
    "y_pred = best_model.predict(X_test)"
   ]
  },
  {
   "cell_type": "code",
   "execution_count": 22,
   "id": "28c1a753-0acd-476e-88e6-81d09e817fa8",
   "metadata": {},
   "outputs": [],
   "source": [
    "ACC = accuracy_score(y_test, y_pred, normalize=True)"
   ]
  },
  {
   "cell_type": "code",
   "execution_count": 23,
   "id": "852d1367-43da-4842-87cd-0dd667b23671",
   "metadata": {},
   "outputs": [],
   "source": [
    "macro_F1 = f1_score(y_test, y_pred, average='macro')"
   ]
  },
  {
   "cell_type": "code",
   "execution_count": 24,
   "id": "687c2e1f-28b0-4ab7-99c8-2b45ce7a579b",
   "metadata": {},
   "outputs": [
    {
     "name": "stdout",
     "output_type": "stream",
     "text": [
      "ACC on the test set: 0.9588107773304428\n",
      "macro_F1 on the test set: 0.9135231273403984\n"
     ]
    }
   ],
   "source": [
    "print(f\"ACC on the test set: {ACC}\")\n",
    "print(f\"macro_F1 on the test set: {macro_F1}\")"
   ]
  },
  {
   "cell_type": "markdown",
   "id": "dfed5e2e-0b47-4d4a-a632-e348a9ac8b40",
   "metadata": {},
   "source": [
    "#### Confusion matrix:"
   ]
  },
  {
   "cell_type": "code",
   "execution_count": 25,
   "id": "0378b899-515c-4fe4-a4b8-fefeef51ae46",
   "metadata": {},
   "outputs": [],
   "source": [
    "cell_types = df['label'].unique()\n",
    "cell_types.sort() "
   ]
  },
  {
   "cell_type": "code",
   "execution_count": 26,
   "id": "faa5f739-8246-4d9a-bded-65f8c3d1199f",
   "metadata": {},
   "outputs": [
    {
     "data": {
      "image/png": "[encoded data removed]",
      "text/plain": [
       "<Figure size 1100x800 with 2 Axes>"
      ]
     },
     "metadata": {},
     "output_type": "display_data"
    }
   ],
   "source": [
    "disp = ConfusionMatrixDisplay.from_estimator(best_model, X_test, y_test, xticks_rotation='vertical', display_labels=cell_types)\n",
    "fig = disp.figure_\n",
    "fig.set_figwidth(11)\n",
    "fig.set_figheight(8) \n",
    "fig.tight_layout()\n",
    "fig.subplots_adjust(top=0.93)\n",
    "fig.suptitle('Confusion matrix for the best Random Forest')\n",
    "\n",
    "confusion_matrix = disp.confusion_matrix\n",
    "ACC_per_celltype = confusion_matrix.diagonal()/confusion_matrix.sum(axis=1)"
   ]
  },
  {
   "cell_type": "markdown",
   "id": "14213095-a979-4a1b-8d64-4334c1d7eb20",
   "metadata": {},
   "source": [
    "#### AUC, Average Precision Score (AP) and ACC across cell types"
   ]
  },
  {
   "cell_type": "code",
   "execution_count": 27,
   "id": "5385679a-11fc-419b-802e-a23b12a16be0",
   "metadata": {},
   "outputs": [],
   "source": [
    "# Predict probabilities\n",
    "y_prob = best_model.predict_proba(X_test)"
   ]
  },
  {
   "cell_type": "code",
   "execution_count": 28,
   "id": "f841b909-7555-4422-8a95-cbe269f6d9ff",
   "metadata": {},
   "outputs": [],
   "source": [
    "AUC_per_celltype = roc_auc_score(y_test, y_prob, average=None, multi_class='ovr', labels=cell_types)"
   ]
  },
  {
   "cell_type": "code",
   "execution_count": 29,
   "id": "fc9453d3-a660-456a-97b9-241f6120fa3b",
   "metadata": {},
   "outputs": [],
   "source": [
    "AP_per_celltype = average_precision_score(y_test, y_prob, average=None)"
   ]
  },
  {
   "cell_type": "code",
   "execution_count": 32,
   "id": "a919f8bf-e700-4855-bcc9-4617301056d5",
   "metadata": {},
   "outputs": [],
   "source": [
    "res = np.concatenate((AUC_per_celltype.reshape(-1, 1), AP_per_celltype.reshape(-1, 1), ACC_per_celltype.reshape(-1, 1)), axis=1)\n",
    "res_df = pd.DataFrame(res, columns=[\"AUC\",\"AP\",\"ACC\"], index=cell_types)"
   ]
  },
  {
   "cell_type": "code",
   "execution_count": 33,
   "id": "a8149ea0-7550-4fc9-8c96-4339e3a4157c",
   "metadata": {},
   "outputs": [
    {
     "data": {
      "text/html": [
       "<div>\n",
       "<style scoped>\n",
       "    .dataframe tbody tr th:only-of-type {\n",
       "        vertical-align: middle;\n",
       "    }\n",
       "\n",
       "    .dataframe tbody tr th {\n",
       "        vertical-align: top;\n",
       "    }\n",
       "\n",
       "    .dataframe thead th {\n",
       "        text-align: right;\n",
       "    }\n",
       "</style>\n",
       "<table border=\"1\" class=\"dataframe\">\n",
       "  <thead>\n",
       "    <tr style=\"text-align: right;\">\n",
       "      <th></th>\n",
       "      <th>AUC</th>\n",
       "      <th>AP</th>\n",
       "      <th>ACC</th>\n",
       "    </tr>\n",
       "  </thead>\n",
       "  <tbody>\n",
       "    <tr>\n",
       "      <th>B</th>\n",
       "      <td>0.999695</td>\n",
       "      <td>0.986830</td>\n",
       "      <td>0.905350</td>\n",
       "    </tr>\n",
       "    <tr>\n",
       "      <th>BnT</th>\n",
       "      <td>0.999550</td>\n",
       "      <td>0.986363</td>\n",
       "      <td>0.944227</td>\n",
       "    </tr>\n",
       "    <tr>\n",
       "      <th>CD4</th>\n",
       "      <td>0.998421</td>\n",
       "      <td>0.978588</td>\n",
       "      <td>0.937695</td>\n",
       "    </tr>\n",
       "    <tr>\n",
       "      <th>CD8</th>\n",
       "      <td>0.999373</td>\n",
       "      <td>0.993838</td>\n",
       "      <td>0.979404</td>\n",
       "    </tr>\n",
       "    <tr>\n",
       "      <th>DC</th>\n",
       "      <td>0.996993</td>\n",
       "      <td>0.922800</td>\n",
       "      <td>0.776224</td>\n",
       "    </tr>\n",
       "    <tr>\n",
       "      <th>HLADR</th>\n",
       "      <td>0.994198</td>\n",
       "      <td>0.845166</td>\n",
       "      <td>0.650450</td>\n",
       "    </tr>\n",
       "    <tr>\n",
       "      <th>MacCD163</th>\n",
       "      <td>0.997930</td>\n",
       "      <td>0.972166</td>\n",
       "      <td>0.920290</td>\n",
       "    </tr>\n",
       "    <tr>\n",
       "      <th>Mural</th>\n",
       "      <td>0.999767</td>\n",
       "      <td>0.997750</td>\n",
       "      <td>0.979856</td>\n",
       "    </tr>\n",
       "    <tr>\n",
       "      <th>NK</th>\n",
       "      <td>0.999786</td>\n",
       "      <td>0.959278</td>\n",
       "      <td>0.779762</td>\n",
       "    </tr>\n",
       "    <tr>\n",
       "      <th>Neutrophil</th>\n",
       "      <td>0.999874</td>\n",
       "      <td>0.996250</td>\n",
       "      <td>0.957368</td>\n",
       "    </tr>\n",
       "    <tr>\n",
       "      <th>Treg</th>\n",
       "      <td>0.999748</td>\n",
       "      <td>0.990150</td>\n",
       "      <td>0.964994</td>\n",
       "    </tr>\n",
       "    <tr>\n",
       "      <th>Tumor</th>\n",
       "      <td>0.998324</td>\n",
       "      <td>0.998461</td>\n",
       "      <td>0.983698</td>\n",
       "    </tr>\n",
       "    <tr>\n",
       "      <th>pDC</th>\n",
       "      <td>0.999352</td>\n",
       "      <td>0.961412</td>\n",
       "      <td>0.763052</td>\n",
       "    </tr>\n",
       "    <tr>\n",
       "      <th>plasma</th>\n",
       "      <td>0.999423</td>\n",
       "      <td>0.988312</td>\n",
       "      <td>0.936007</td>\n",
       "    </tr>\n",
       "  </tbody>\n",
       "</table>\n",
       "</div>"
      ],
      "text/plain": [
       "                 AUC        AP       ACC\n",
       "B           0.999695  0.986830  0.905350\n",
       "BnT         0.999550  0.986363  0.944227\n",
       "CD4         0.998421  0.978588  0.937695\n",
       "CD8         0.999373  0.993838  0.979404\n",
       "DC          0.996993  0.922800  0.776224\n",
       "HLADR       0.994198  0.845166  0.650450\n",
       "MacCD163    0.997930  0.972166  0.920290\n",
       "Mural       0.999767  0.997750  0.979856\n",
       "NK          0.999786  0.959278  0.779762\n",
       "Neutrophil  0.999874  0.996250  0.957368\n",
       "Treg        0.999748  0.990150  0.964994\n",
       "Tumor       0.998324  0.998461  0.983698\n",
       "pDC         0.999352  0.961412  0.763052\n",
       "plasma      0.999423  0.988312  0.936007"
      ]
     },
     "execution_count": 33,
     "metadata": {},
     "output_type": "execute_result"
    }
   ],
   "source": [
    "res_df"
   ]
  },
  {
   "cell_type": "markdown",
   "id": "b3fe7ee9-402b-4b8e-954e-86073f778075",
   "metadata": {},
   "source": [
    "#### Sklearn report:"
   ]
  },
  {
   "cell_type": "code",
   "execution_count": 36,
   "id": "063d90fa-74c3-4d0a-a128-5c7ff57f430d",
   "metadata": {},
   "outputs": [
    {
     "name": "stdout",
     "output_type": "stream",
     "text": [
      "              precision    recall  f1-score   support\n",
      "\n",
      "           B       0.96      0.91      0.93       729\n",
      "         BnT       0.91      0.94      0.93      1022\n",
      "         CD4       0.92      0.94      0.93      1926\n",
      "         CD8       0.95      0.98      0.96      3156\n",
      "          DC       0.88      0.78      0.83       715\n",
      "       HLADR       0.90      0.65      0.75       555\n",
      "    MacCD163       0.90      0.92      0.91      2346\n",
      "       Mural       0.98      0.98      0.98      3326\n",
      "          NK       0.98      0.78      0.87       168\n",
      "  Neutrophil       0.98      0.96      0.97      1079\n",
      "        Treg       0.94      0.96      0.95       857\n",
      "       Tumor       0.98      0.98      0.98     18219\n",
      "         pDC       0.98      0.76      0.86       249\n",
      "      plasma       0.96      0.94      0.95      1172\n",
      "\n",
      "    accuracy                           0.96     35519\n",
      "   macro avg       0.94      0.89      0.91     35519\n",
      "weighted avg       0.96      0.96      0.96     35519\n",
      "\n"
     ]
    }
   ],
   "source": [
    "from sklearn.metrics import classification_report\n",
    "\n",
    "print(classification_report(y_test, y_pred, target_names=cell_types))"
   ]
  },
  {
   "cell_type": "code",
   "execution_count": null,
   "id": "89b297ab-38a1-4001-84dc-7bce506d5a68",
   "metadata": {},
   "outputs": [],
   "source": []
  }
 ],
 "metadata": {
  "kernelspec": {
   "display_name": "Python 3 (ipykernel)",
   "language": "python",
   "name": "python3"
  },
  "language_info": {
   "codemirror_mode": {
    "name": "ipython",
    "version": 3
   },
   "file_extension": ".py",
   "mimetype": "text/x-python",
   "name": "python",
   "nbconvert_exporter": "python",
   "pygments_lexer": "ipython3",
   "version": "3.12.2"
  }
 },
 "nbformat": 4,
 "nbformat_minor": 5
}
