{
 "cells": [
  {
   "cell_type": "markdown",
   "id": "41c8bde2-7e38-4f22-9a72-b844e04c3a6f",
   "metadata": {},
   "source": [
    "# Results"
   ]
  },
  {
   "cell_type": "markdown",
   "id": "f39e726c-6d06-43dc-bcbd-a8b73ed4d97a",
   "metadata": {},
   "source": [
    "We have trained three classic models:\n",
    "* Multiclass Logistic Regression\n",
    "* Random Forest\n",
    "* XGB Classifier\n",
    "\n",
    "Models were evaluated on a test set which was separated from a training set.\n",
    "Globals metrics like overall accuracy and macro-f1 are presented below:"
   ]
  },
  {
   "cell_type": "markdown",
   "id": "ab286fd4-2a03-411c-97a6-f8a2fe9a74d6",
   "metadata": {},
   "source": [
    "| model               | Accuracy | macro-f1|\n",
    "| --------------------| -------- | ------- |\n",
    "| Logistic Regression | 0.934    | 0.869   |\n",
    "| Random Forest       | 0.954    | 0.897  |\n",
    "| XGB classfier       | 0.975    | 0.953   |"
   ]
  },
  {
   "cell_type": "markdown",
   "id": "bd82e3f4-699c-4027-8e99-f3c8d43046d7",
   "metadata": {},
   "source": [
    "We noticed that data is highly unbalanced with much more abundant tumor cells. From that reason it was crucial to evaluate how models perform for the each class. In the notebook confusion matrices are presented for each model. Below, we present table summarizing models performance (AP-Average Precision, ACC-Accuracy) for a each class."
   ]
  },
  {
   "cell_type": "markdown",
   "id": "66f2d262-9233-416f-a492-2a410c5b4e2d",
   "metadata": {},
   "source": [
    "<table>\n",
    "    <thead>\n",
    "        <tr>\n",
    "            <th>Cell type</th>\n",
    "            <th colspan=2>Logistic Regression</th>\n",
    "            <th colspan=2>Random Forest</th>\n",
    "            <th colspan=2>XGB Classifier</th>\n",
    "        </tr>\n",
    "    </thead>\n",
    "    <tbody>\n",
    "        <tr>\n",
    "            <td>  </td>\n",
    "            <td>AP</td>\n",
    "            <td>ACC</td>\n",
    "            <td>AP</td>\n",
    "            <td>ACC</td>\n",
    "            <td>AP</td>\n",
    "            <td>ACC</td>\n",
    "        </tr>\n",
    "        <tr>\n",
    "            <td> B </td>\n",
    "            <td>0.982</td>\n",
    "            <td>0.920</td>\n",
    "            <td>0.985</td>\n",
    "            <td>0.903</td>\n",
    "            <td>0.996</td>\n",
    "            <td><b>0.975</b></td>\n",
    "        </tr>\n",
    "        <tr>\n",
    "            <td> BnT </td>\n",
    "            <td>0.954</td>\n",
    "            <td>0.901</td>\n",
    "            <td>0.984</td>\n",
    "            <td>0.942</td>\n",
    "            <td>0.996</td>\n",
    "            <td><b>0.977</b></td>\n",
    "        </tr>\n",
    "        <tr>\n",
    "            <td> CD4 </td>\n",
    "            <td>0.959</td>\n",
    "            <td>0.887</td>\n",
    "            <td>0.976</td>\n",
    "            <td>0.929</td>\n",
    "            <td>0.992</td>\n",
    "            <td><b>0.956</b></td>\n",
    "        </tr>\n",
    "        <tr>\n",
    "            <td> CD8 </td>\n",
    "            <td>0.982</td>\n",
    "            <td>0.944</td>\n",
    "            <td>0.993</td>\n",
    "            <td>0.978</td>\n",
    "            <td>0.998</td>\n",
    "            <td><b>0.984</b></td>\n",
    "        </tr>\n",
    "        <tr>\n",
    "            <td> DC </td>\n",
    "            <td>0.664</td>\n",
    "            <td>0.607</td>\n",
    "            <td>0.913</td>\n",
    "            <td>0.758</td>\n",
    "            <td>0.967</td>\n",
    "            <td><b>0.889</b></td>\n",
    "        </tr>\n",
    "        <tr>\n",
    "            <td> HLADR </td>\n",
    "            <td>0.696</td>\n",
    "            <td>0.535</td>\n",
    "            <td>0.805</td>\n",
    "            <td>0.593</td>\n",
    "            <td>0.935</td>\n",
    "            <td><b>0.804</b></td>\n",
    "        </tr>\n",
    "        <tr>\n",
    "            <td> MacCD163 </td>\n",
    "            <td>0.913</td>\n",
    "            <td>0.852</td>\n",
    "            <td>0.966</td>\n",
    "            <td>0.919</td>\n",
    "            <td>0.988</td>\n",
    "            <td><b>0.941</b></td>\n",
    "        </tr>\n",
    "        <tr>\n",
    "            <td> Mural </td>\n",
    "            <td>0.991</td>\n",
    "            <td>0.955</td>\n",
    "            <td>0.997</td>\n",
    "            <td><b>0.997</b></td>\n",
    "            <td>0.999</td>\n",
    "            <td>0.987</td>\n",
    "        </tr>\n",
    "        <tr>\n",
    "            <td> NK </td>\n",
    "            <td>0.868</td>\n",
    "            <td>0.762</td>\n",
    "            <td>0.956</td>\n",
    "            <td>0.649</td>\n",
    "            <td>0.982</td>\n",
    "            <td><b>0.940</b></td>\n",
    "        </tr>\n",
    "        <tr>\n",
    "            <td> Neutrophil </td>\n",
    "            <td>0.993</td>\n",
    "            <td>0.960</td>\n",
    "            <td>0.996</td>\n",
    "            <td>0.955</td>\n",
    "            <td>0.999</td>\n",
    "            <td><b>0.982</b></td>\n",
    "        </tr>\n",
    "        <tr>\n",
    "            <td> Treg </td>\n",
    "            <td>0.977</td>\n",
    "            <td>0.942</td>\n",
    "            <td>0.988</td>\n",
    "            <td>0.961</td>\n",
    "            <td>0.997</td>\n",
    "            <td><b>0.980</b></td>\n",
    "        </tr>\n",
    "        <tr>\n",
    "            <td> Tumor </td>\n",
    "            <td>0.995</td>\n",
    "            <td>0.973</td>\n",
    "            <td>0.988</td>\n",
    "            <td>0.982</td>\n",
    "            <td>0.999</td>\n",
    "            <td><b>0.986</b></td>\n",
    "        </tr>\n",
    "        <tr>\n",
    "            <td> pDC </td>\n",
    "            <td>0.932</td>\n",
    "            <td>0.847</td>\n",
    "            <td>0.956</td>\n",
    "            <td>0.687</td>\n",
    "            <td>0.980</td>\n",
    "            <td><b>0.920</b></td>\n",
    "        </tr>\n",
    "        <tr>\n",
    "            <td> plasma </td>\n",
    "            <td>0.978</td>\n",
    "            <td>0.920</td>\n",
    "            <td>0.986</td>\n",
    "            <td>0.924</td>\n",
    "            <td>0.997</td>\n",
    "            <td><b>0.980</b></td>\n",
    "        </tr>\n",
    "    </tbody>\n",
    "</table>"
   ]
  },
  {
   "cell_type": "markdown",
   "id": "6224fbe6-bce7-4f16-a357-775b834af868",
   "metadata": {},
   "source": [
    "It is clear that **XGB classifier** gave the best results. Not only when it comes to overall accuracy, but also across classes. For the most of classes it achieved accuracy much higher than 90%. Only two cell types: HLADR and DC got worse results, 80.4% and 88.9% respectively. Taking into account unbalance in classes, results are very good. \n",
    "\n",
    "**Random Forest** classifier received slightly lower overall accuracy than XGB Classifier. Moreover, it also achieved much worse results for few cell types. In particular: DC, HLADR, NK, pDC.\n",
    "\n",
    "**Multiclass Logistic Regression** achieved the worst overall accuracy and also has lower accuracy across classes than XGB Classifier.\n",
    "\n",
    "In the notebook for each model, we also calculated the AUC metric for the classes, but due to the large imbalance in the class distribution, this metric is not very informative."
   ]
  },
  {
   "cell_type": "markdown",
   "id": "9aa1a7f7-5736-4a37-88b0-fda77d7c11ce",
   "metadata": {},
   "source": [
    "# Data Preparation"
   ]
  },
  {
   "cell_type": "markdown",
   "id": "4159b417-71ba-44ee-a76a-3d91131e7ca2",
   "metadata": {},
   "source": [
    "We built baseline models purely on markers expression data and our learning objective was to estimate function from 40 markers to 14 cell types. In the cells below we load data, construct useful DataFrame objects, split data into train/test set and perform z-score standardization. Tree based models (Random Forest, XGB Classifier) are trained on original data, but logistic regression is trained on rescaled data."
   ]
  },
  {
   "cell_type": "markdown",
   "id": "33153ea4-9b60-46b9-b4ba-f2394f77f12e",
   "metadata": {},
   "source": [
    "## Loading Data"
   ]
  },
  {
   "cell_type": "markdown",
   "id": "7735dddf-49fe-4352-9e5b-666aad45161f",
   "metadata": {},
   "source": [
    "Preparing DataFrame object with markers expression and corresponding cell labels."
   ]
  },
  {
   "cell_type": "code",
   "execution_count": 1,
   "id": "e5737662-bab7-4bec-84ff-4282be65b96f",
   "metadata": {},
   "outputs": [],
   "source": [
    "import anndata\n",
    "import pandas as pd\n",
    "import numpy as np\n",
    "import pickle\n",
    "\n",
    "\n",
    "TRAIN_ANNDATA_PATH = \"train/cell_data.h5ad\""
   ]
  },
  {
   "cell_type": "code",
   "execution_count": 2,
   "id": "2bcb1147-e8ee-4286-ac3a-9d0887c73ead",
   "metadata": {},
   "outputs": [],
   "source": [
    "train_anndata = anndata.read_h5ad(TRAIN_ANNDATA_PATH)\n",
    "labels = list(train_anndata.obs.iloc[:, -1])"
   ]
  },
  {
   "cell_type": "code",
   "execution_count": 3,
   "id": "ce518e83-364e-49da-a15a-66267afbb38d",
   "metadata": {
    "scrolled": true
   },
   "outputs": [],
   "source": [
    "labels = list(train_anndata.obs.iloc[:, -1])\n",
    "markers_names = list(train_anndata.var[\"marker\"])"
   ]
  },
  {
   "cell_type": "code",
   "execution_count": 4,
   "id": "e833afc2-7949-4f63-b3d0-0c3a0dd2d4b6",
   "metadata": {},
   "outputs": [],
   "source": [
    "exprs_matrix = train_anndata.layers[\"exprs\"]"
   ]
  },
  {
   "cell_type": "code",
   "execution_count": 5,
   "id": "284dc8e4-8e90-44d7-9958-eb8acf134f68",
   "metadata": {},
   "outputs": [],
   "source": [
    "# Creating expression DataFrame\n",
    "df = pd.DataFrame(exprs_matrix)\n",
    "df.columns = markers_names\n",
    "\n",
    "# Adding labels column\n",
    "df[\"label\"] = labels"
   ]
  },
  {
   "cell_type": "code",
   "execution_count": 6,
   "id": "d7351946-c14c-4b41-8be0-3203a0a03596",
   "metadata": {},
   "outputs": [
    {
     "data": {
      "text/html": [
       "<div>\n",
       "<style scoped>\n",
       "    .dataframe tbody tr th:only-of-type {\n",
       "        vertical-align: middle;\n",
       "    }\n",
       "\n",
       "    .dataframe tbody tr th {\n",
       "        vertical-align: top;\n",
       "    }\n",
       "\n",
       "    .dataframe thead th {\n",
       "        text-align: right;\n",
       "    }\n",
       "</style>\n",
       "<table border=\"1\" class=\"dataframe\">\n",
       "  <thead>\n",
       "    <tr style=\"text-align: right;\">\n",
       "      <th></th>\n",
       "      <th>MPO</th>\n",
       "      <th>HistoneH3</th>\n",
       "      <th>SMA</th>\n",
       "      <th>CD16</th>\n",
       "      <th>CD38</th>\n",
       "      <th>HLADR</th>\n",
       "      <th>CD27</th>\n",
       "      <th>CD15</th>\n",
       "      <th>CD45RA</th>\n",
       "      <th>CD163</th>\n",
       "      <th>...</th>\n",
       "      <th>CD40</th>\n",
       "      <th>CD4</th>\n",
       "      <th>CD14</th>\n",
       "      <th>Ecad</th>\n",
       "      <th>CD303</th>\n",
       "      <th>CD206</th>\n",
       "      <th>cleavedPARP</th>\n",
       "      <th>DNA1</th>\n",
       "      <th>DNA2</th>\n",
       "      <th>label</th>\n",
       "    </tr>\n",
       "  </thead>\n",
       "  <tbody>\n",
       "    <tr>\n",
       "      <th>0</th>\n",
       "      <td>0.000000</td>\n",
       "      <td>1.819988</td>\n",
       "      <td>0.502650</td>\n",
       "      <td>1.265410</td>\n",
       "      <td>0.515007</td>\n",
       "      <td>3.331261</td>\n",
       "      <td>0.403800</td>\n",
       "      <td>0.455421</td>\n",
       "      <td>0.528734</td>\n",
       "      <td>2.948392</td>\n",
       "      <td>...</td>\n",
       "      <td>0.567238</td>\n",
       "      <td>1.651610</td>\n",
       "      <td>2.556218</td>\n",
       "      <td>0.777378</td>\n",
       "      <td>0.000000</td>\n",
       "      <td>3.581082</td>\n",
       "      <td>0.424273</td>\n",
       "      <td>4.761130</td>\n",
       "      <td>5.301351</td>\n",
       "      <td>MacCD163</td>\n",
       "    </tr>\n",
       "    <tr>\n",
       "      <th>1</th>\n",
       "      <td>0.135920</td>\n",
       "      <td>2.393087</td>\n",
       "      <td>1.136961</td>\n",
       "      <td>0.505529</td>\n",
       "      <td>0.605836</td>\n",
       "      <td>0.710857</td>\n",
       "      <td>0.419814</td>\n",
       "      <td>0.100110</td>\n",
       "      <td>0.743002</td>\n",
       "      <td>0.329851</td>\n",
       "      <td>...</td>\n",
       "      <td>0.603468</td>\n",
       "      <td>1.358368</td>\n",
       "      <td>1.700181</td>\n",
       "      <td>1.884778</td>\n",
       "      <td>0.068872</td>\n",
       "      <td>0.744634</td>\n",
       "      <td>0.118620</td>\n",
       "      <td>5.029241</td>\n",
       "      <td>5.530764</td>\n",
       "      <td>Mural</td>\n",
       "    </tr>\n",
       "    <tr>\n",
       "      <th>2</th>\n",
       "      <td>0.165905</td>\n",
       "      <td>2.244917</td>\n",
       "      <td>1.396334</td>\n",
       "      <td>1.744382</td>\n",
       "      <td>0.458541</td>\n",
       "      <td>4.006500</td>\n",
       "      <td>0.003607</td>\n",
       "      <td>0.562882</td>\n",
       "      <td>1.236516</td>\n",
       "      <td>1.747839</td>\n",
       "      <td>...</td>\n",
       "      <td>0.812795</td>\n",
       "      <td>1.949510</td>\n",
       "      <td>3.465199</td>\n",
       "      <td>1.743507</td>\n",
       "      <td>0.403610</td>\n",
       "      <td>2.244398</td>\n",
       "      <td>0.015141</td>\n",
       "      <td>4.418390</td>\n",
       "      <td>4.815923</td>\n",
       "      <td>DC</td>\n",
       "    </tr>\n",
       "    <tr>\n",
       "      <th>3</th>\n",
       "      <td>0.165905</td>\n",
       "      <td>1.144778</td>\n",
       "      <td>0.563216</td>\n",
       "      <td>1.166010</td>\n",
       "      <td>0.513735</td>\n",
       "      <td>2.034705</td>\n",
       "      <td>0.650242</td>\n",
       "      <td>0.250150</td>\n",
       "      <td>1.205007</td>\n",
       "      <td>0.990385</td>\n",
       "      <td>...</td>\n",
       "      <td>1.228290</td>\n",
       "      <td>2.287524</td>\n",
       "      <td>2.491710</td>\n",
       "      <td>2.268924</td>\n",
       "      <td>0.196199</td>\n",
       "      <td>0.946492</td>\n",
       "      <td>0.233095</td>\n",
       "      <td>3.736089</td>\n",
       "      <td>4.368012</td>\n",
       "      <td>Tumor</td>\n",
       "    </tr>\n",
       "    <tr>\n",
       "      <th>4</th>\n",
       "      <td>0.137497</td>\n",
       "      <td>2.210970</td>\n",
       "      <td>0.892371</td>\n",
       "      <td>0.497646</td>\n",
       "      <td>0.412840</td>\n",
       "      <td>1.499184</td>\n",
       "      <td>0.098131</td>\n",
       "      <td>0.208566</td>\n",
       "      <td>0.922874</td>\n",
       "      <td>1.255892</td>\n",
       "      <td>...</td>\n",
       "      <td>0.360098</td>\n",
       "      <td>1.445085</td>\n",
       "      <td>2.332546</td>\n",
       "      <td>2.387292</td>\n",
       "      <td>0.061568</td>\n",
       "      <td>1.632904</td>\n",
       "      <td>0.372278</td>\n",
       "      <td>4.607359</td>\n",
       "      <td>5.152041</td>\n",
       "      <td>Tumor</td>\n",
       "    </tr>\n",
       "  </tbody>\n",
       "</table>\n",
       "<p>5 rows × 41 columns</p>\n",
       "</div>"
      ],
      "text/plain": [
       "        MPO  HistoneH3       SMA      CD16      CD38     HLADR      CD27  \\\n",
       "0  0.000000   1.819988  0.502650  1.265410  0.515007  3.331261  0.403800   \n",
       "1  0.135920   2.393087  1.136961  0.505529  0.605836  0.710857  0.419814   \n",
       "2  0.165905   2.244917  1.396334  1.744382  0.458541  4.006500  0.003607   \n",
       "3  0.165905   1.144778  0.563216  1.166010  0.513735  2.034705  0.650242   \n",
       "4  0.137497   2.210970  0.892371  0.497646  0.412840  1.499184  0.098131   \n",
       "\n",
       "       CD15    CD45RA     CD163  ...      CD40       CD4      CD14      Ecad  \\\n",
       "0  0.455421  0.528734  2.948392  ...  0.567238  1.651610  2.556218  0.777378   \n",
       "1  0.100110  0.743002  0.329851  ...  0.603468  1.358368  1.700181  1.884778   \n",
       "2  0.562882  1.236516  1.747839  ...  0.812795  1.949510  3.465199  1.743507   \n",
       "3  0.250150  1.205007  0.990385  ...  1.228290  2.287524  2.491710  2.268924   \n",
       "4  0.208566  0.922874  1.255892  ...  0.360098  1.445085  2.332546  2.387292   \n",
       "\n",
       "      CD303     CD206  cleavedPARP      DNA1      DNA2     label  \n",
       "0  0.000000  3.581082     0.424273  4.761130  5.301351  MacCD163  \n",
       "1  0.068872  0.744634     0.118620  5.029241  5.530764     Mural  \n",
       "2  0.403610  2.244398     0.015141  4.418390  4.815923        DC  \n",
       "3  0.196199  0.946492     0.233095  3.736089  4.368012     Tumor  \n",
       "4  0.061568  1.632904     0.372278  4.607359  5.152041     Tumor  \n",
       "\n",
       "[5 rows x 41 columns]"
      ]
     },
     "execution_count": 6,
     "metadata": {},
     "output_type": "execute_result"
    }
   ],
   "source": [
    "df.head()"
   ]
  },
  {
   "cell_type": "code",
   "execution_count": 7,
   "id": "08d00776-bce3-4e70-8047-db19a18db898",
   "metadata": {},
   "outputs": [],
   "source": [
    "with open(\"data_baselines.pkl\", \"wb\") as file:\n",
    "    pickle.dump(df, file)"
   ]
  },
  {
   "cell_type": "markdown",
   "id": "724f873b-724a-4ac9-9016-50afcc7d3fe9",
   "metadata": {},
   "source": [
    "## Splitting Data"
   ]
  },
  {
   "cell_type": "markdown",
   "id": "c79e8f36-c7de-4d02-944f-fd4ae9efec1d",
   "metadata": {},
   "source": [
    "Data which we received was splitted to a training set and a test set. The training set was used for training and cross-validation search for hyperparameters. The test set was used for the final evaluation."
   ]
  },
  {
   "cell_type": "code",
   "execution_count": 8,
   "id": "8265ca61-4a33-43b7-bf5c-e582b86b1545",
   "metadata": {},
   "outputs": [],
   "source": [
    "from sklearn.model_selection import StratifiedKFold\n",
    "from sklearn.model_selection import train_test_split\n",
    "from sklearn.preprocessing import StandardScaler"
   ]
  },
  {
   "cell_type": "code",
   "execution_count": 9,
   "id": "6e6a5dcd-7e66-4b5f-9798-fab029c60465",
   "metadata": {},
   "outputs": [],
   "source": [
    "X_train, X_test, y_train, y_test = train_test_split(df[markers_names], \n",
    "                                                    df[\"label\"], \n",
    "                                                    random_state=12, \n",
    "                                                    stratify=df[\"label\"],\n",
    "                                                    shuffle=True,\n",
    "                                                    train_size=0.85\n",
    "                                                   )"
   ]
  },
  {
   "cell_type": "code",
   "execution_count": 10,
   "id": "25242fc2-e28e-4437-b60e-d83a6577af44",
   "metadata": {},
   "outputs": [],
   "source": [
    "scaler = StandardScaler()\n",
    "scaler.fit(X_train)\n",
    "X_train_scaled = pd.DataFrame(scaler.transform(X_train))\n",
    "X_test_scaled = pd.DataFrame(scaler.transform(X_test))\n",
    "X_train_scaled.columns = markers_names\n",
    "X_test_scaled.columns = markers_names"
   ]
  },
  {
   "cell_type": "code",
   "execution_count": 11,
   "id": "72ccf495-8fa7-41f5-8521-664b9c93ca99",
   "metadata": {},
   "outputs": [],
   "source": [
    "skf = StratifiedKFold(n_splits=5, shuffle=True, random_state=12)"
   ]
  },
  {
   "cell_type": "code",
   "execution_count": 12,
   "id": "bb09a952-96ca-4902-bef6-3df25afcad5a",
   "metadata": {},
   "outputs": [],
   "source": [
    "folds = skf.split(X_train, y_train)"
   ]
  },
  {
   "cell_type": "markdown",
   "id": "87bd091c-19bd-4a87-886c-79eb0053cb89",
   "metadata": {},
   "source": [
    "## Logistic Regression"
   ]
  },
  {
   "cell_type": "code",
   "execution_count": 53,
   "id": "6dc27bca-2742-4c2c-9bab-334256caa957",
   "metadata": {},
   "outputs": [],
   "source": [
    "from sklearn.model_selection import GridSearchCV\n",
    "from sklearn.linear_model import LogisticRegression\n",
    "from sklearn.model_selection import cross_val_score"
   ]
  },
  {
   "cell_type": "markdown",
   "id": "5db2cb9f-6c7f-48e7-99b3-408af15620c9",
   "metadata": {},
   "source": [
    "#### Logistic Regression - Elastic Net (saga optimization algorithm)"
   ]
  },
  {
   "cell_type": "code",
   "execution_count": null,
   "id": "bc0b2f28-0df4-4471-988e-1ebdbcbce6bd",
   "metadata": {
    "scrolled": true
   },
   "outputs": [],
   "source": [
    "model_LR = LogisticRegression(multi_class='multinomial', penalty='elasticnet', solver='saga', max_iter=500)\n",
    "parameters = {'l1_ratio': np.linspace(start=0.0, stop=1.0, num=10)}\n",
    "\n",
    "grid_search = GridSearchCV(model_LR, \n",
    "                           param_grid=parameters, \n",
    "                           cv=folds, \n",
    "                           scoring='accuracy', \n",
    "                           refit=True,\n",
    "                           verbose = 4, \n",
    "                           n_jobs = -1)\n",
    "grid_res = grid_search.fit(X_train_scaled, y_train)"
   ]
  },
  {
   "cell_type": "code",
   "execution_count": 125,
   "id": "6ad6f1e2-64e9-40b9-89b3-33f75593af66",
   "metadata": {},
   "outputs": [
    {
     "data": {
      "text/plain": [
       "0.9364442082676877"
      ]
     },
     "execution_count": 125,
     "metadata": {},
     "output_type": "execute_result"
    }
   ],
   "source": [
    "grid_res.best_score_"
   ]
  },
  {
   "cell_type": "code",
   "execution_count": 126,
   "id": "cfe1d783-9f8b-42bd-87e3-3ec76219c2d9",
   "metadata": {},
   "outputs": [
    {
     "data": {
      "text/plain": [
       "{'l1_ratio': 1.0}"
      ]
     },
     "execution_count": 126,
     "metadata": {},
     "output_type": "execute_result"
    }
   ],
   "source": [
    "grid_res.best_params_"
   ]
  },
  {
   "cell_type": "markdown",
   "id": "217a0f3d-f345-448f-8ca0-e791c6c7b527",
   "metadata": {},
   "source": [
    "#### Logistic Regression - L2 (lbfgs optimization algorithm)"
   ]
  },
  {
   "cell_type": "code",
   "execution_count": null,
   "id": "25f139fb-d1ee-4b3d-be5c-922919fd6b51",
   "metadata": {},
   "outputs": [],
   "source": [
    "# lbfgs\n",
    "model_LR = LogisticRegression(multi_class='multinomial', penalty='l2', solver='lbfgs', max_iter=500)\n",
    "cv_res = cross_val_score(model_LR, X_train_scaled, y_train, \n",
    "                scoring='accuracy', cv=folds,\n",
    "                n_jobs=-1, verbose=0)\n",
    "model_LR.fit(X_train_scaled, y_train)"
   ]
  },
  {
   "cell_type": "code",
   "execution_count": 153,
   "id": "443717ce-0269-455b-b125-49814284c3ae",
   "metadata": {},
   "outputs": [
    {
     "name": "stdout",
     "output_type": "stream",
     "text": [
      "Mean Cross-Valdiation accuracy: 0.9363746505800451\n"
     ]
    }
   ],
   "source": [
    "print(f\"Mean Cross-Valdiation accuracy: {np.mean(cv_res)}\")"
   ]
  },
  {
   "cell_type": "code",
   "execution_count": 67,
   "id": "b2cc0a02-7a11-49e7-bac0-01c8a3b5e3ab",
   "metadata": {},
   "outputs": [],
   "source": [
    "SAVE_MODEL=False\n",
    "\n",
    "if SAVE_MODEL:\n",
    "    with open(\"./models/best_LR.pkl\", \"wb\") as f:\n",
    "        pickle.dump(model_LR, f)"
   ]
  },
  {
   "cell_type": "markdown",
   "id": "aa50d8e5-ae1b-4be4-9d68-b06d1d869d7e",
   "metadata": {},
   "source": [
    "Cross-Validational results of grid search on Elastic Net are very similar to the Logistic Regression with simple L2 penalty, so in the following evaluation I will use model trained with L2 penalty and lbfgs optimizer."
   ]
  },
  {
   "cell_type": "markdown",
   "id": "0f984469-e5e2-4a14-a8c3-20775023bd21",
   "metadata": {},
   "source": [
    "### Model evaluation on the test set"
   ]
  },
  {
   "cell_type": "code",
   "execution_count": 54,
   "id": "ec90ebbc-86f3-4f4f-8b53-50c6ddc166a3",
   "metadata": {},
   "outputs": [],
   "source": [
    "%%capture\n",
    "with open(\"./models/best_LR.pkl\", \"rb\") as f:\n",
    "    best_model = pickle.load(f)\n",
    "\n",
    "evaluation = evaluate(best_model, X_test_scaled, y_test)"
   ]
  },
  {
   "cell_type": "markdown",
   "id": "ece7c4b0-97f4-4e02-9bdc-77b510ee7d53",
   "metadata": {},
   "source": [
    "#### Global metrics (`ACC`, `macro-F1`):"
   ]
  },
  {
   "cell_type": "code",
   "execution_count": 55,
   "id": "3778c5bd-ed00-4e18-b150-7d796312d561",
   "metadata": {},
   "outputs": [
    {
     "name": "stdout",
     "output_type": "stream",
     "text": [
      "ACC on the test set: 0.933725611644472\n",
      "macro_F1 on the test set: 0.8694275666526232\n"
     ]
    }
   ],
   "source": [
    "print(f\"ACC on the test set: {evaluation[\"ACC_glob\"]}\")\n",
    "print(f\"macro_F1 on the test set: {evaluation[\"macro_F1\"]}\")"
   ]
  },
  {
   "cell_type": "markdown",
   "id": "f363f5f6-399b-459d-96e1-1b1d4f23b862",
   "metadata": {},
   "source": [
    "#### Confusion matrix:"
   ]
  },
  {
   "cell_type": "code",
   "execution_count": 56,
   "id": "96184394-ec4f-491b-9738-5986d9ebdd93",
   "metadata": {},
   "outputs": [
    {
     "data": {
      "image/png": "[encoded data removed]",
      "text/plain": [
       "<Figure size 1100x800 with 2 Axes>"
      ]
     },
     "execution_count": 56,
     "metadata": {},
     "output_type": "execute_result"
    }
   ],
   "source": [
    "evaluation[\"conf_plot\"]"
   ]
  },
  {
   "cell_type": "markdown",
   "id": "5e0a51af-636a-41ca-9a33-836f3baadc78",
   "metadata": {},
   "source": [
    "#### AUC, Average Precision Score (AP) and ACC across cell types"
   ]
  },
  {
   "cell_type": "code",
   "execution_count": 57,
   "id": "c3d5f72f-2aa3-42c3-bec0-72ddfe76cedb",
   "metadata": {},
   "outputs": [
    {
     "data": {
      "text/html": [
       "<div>\n",
       "<style scoped>\n",
       "    .dataframe tbody tr th:only-of-type {\n",
       "        vertical-align: middle;\n",
       "    }\n",
       "\n",
       "    .dataframe tbody tr th {\n",
       "        vertical-align: top;\n",
       "    }\n",
       "\n",
       "    .dataframe thead th {\n",
       "        text-align: right;\n",
       "    }\n",
       "</style>\n",
       "<table border=\"1\" class=\"dataframe\">\n",
       "  <thead>\n",
       "    <tr style=\"text-align: right;\">\n",
       "      <th></th>\n",
       "      <th>AUC</th>\n",
       "      <th>AP</th>\n",
       "      <th>ACC</th>\n",
       "    </tr>\n",
       "  </thead>\n",
       "  <tbody>\n",
       "    <tr>\n",
       "      <th>B</th>\n",
       "      <td>0.999519</td>\n",
       "      <td>0.981893</td>\n",
       "      <td>0.920439</td>\n",
       "    </tr>\n",
       "    <tr>\n",
       "      <th>BnT</th>\n",
       "      <td>0.998533</td>\n",
       "      <td>0.953664</td>\n",
       "      <td>0.901174</td>\n",
       "    </tr>\n",
       "    <tr>\n",
       "      <th>CD4</th>\n",
       "      <td>0.996424</td>\n",
       "      <td>0.958691</td>\n",
       "      <td>0.886812</td>\n",
       "    </tr>\n",
       "    <tr>\n",
       "      <th>CD8</th>\n",
       "      <td>0.998337</td>\n",
       "      <td>0.982022</td>\n",
       "      <td>0.943599</td>\n",
       "    </tr>\n",
       "    <tr>\n",
       "      <th>DC</th>\n",
       "      <td>0.979211</td>\n",
       "      <td>0.663568</td>\n",
       "      <td>0.606993</td>\n",
       "    </tr>\n",
       "    <tr>\n",
       "      <th>HLADR</th>\n",
       "      <td>0.975010</td>\n",
       "      <td>0.695618</td>\n",
       "      <td>0.535135</td>\n",
       "    </tr>\n",
       "    <tr>\n",
       "      <th>MacCD163</th>\n",
       "      <td>0.992424</td>\n",
       "      <td>0.912802</td>\n",
       "      <td>0.852089</td>\n",
       "    </tr>\n",
       "    <tr>\n",
       "      <th>Mural</th>\n",
       "      <td>0.998841</td>\n",
       "      <td>0.990564</td>\n",
       "      <td>0.954901</td>\n",
       "    </tr>\n",
       "    <tr>\n",
       "      <th>NK</th>\n",
       "      <td>0.998191</td>\n",
       "      <td>0.867840</td>\n",
       "      <td>0.761905</td>\n",
       "    </tr>\n",
       "    <tr>\n",
       "      <th>Neutrophil</th>\n",
       "      <td>0.999769</td>\n",
       "      <td>0.993028</td>\n",
       "      <td>0.960148</td>\n",
       "    </tr>\n",
       "    <tr>\n",
       "      <th>Treg</th>\n",
       "      <td>0.999333</td>\n",
       "      <td>0.976547</td>\n",
       "      <td>0.941657</td>\n",
       "    </tr>\n",
       "    <tr>\n",
       "      <th>Tumor</th>\n",
       "      <td>0.994432</td>\n",
       "      <td>0.994871</td>\n",
       "      <td>0.972666</td>\n",
       "    </tr>\n",
       "    <tr>\n",
       "      <th>pDC</th>\n",
       "      <td>0.998908</td>\n",
       "      <td>0.932366</td>\n",
       "      <td>0.847390</td>\n",
       "    </tr>\n",
       "    <tr>\n",
       "      <th>plasma</th>\n",
       "      <td>0.997987</td>\n",
       "      <td>0.977662</td>\n",
       "      <td>0.919795</td>\n",
       "    </tr>\n",
       "  </tbody>\n",
       "</table>\n",
       "</div>"
      ],
      "text/plain": [
       "                 AUC        AP       ACC\n",
       "B           0.999519  0.981893  0.920439\n",
       "BnT         0.998533  0.953664  0.901174\n",
       "CD4         0.996424  0.958691  0.886812\n",
       "CD8         0.998337  0.982022  0.943599\n",
       "DC          0.979211  0.663568  0.606993\n",
       "HLADR       0.975010  0.695618  0.535135\n",
       "MacCD163    0.992424  0.912802  0.852089\n",
       "Mural       0.998841  0.990564  0.954901\n",
       "NK          0.998191  0.867840  0.761905\n",
       "Neutrophil  0.999769  0.993028  0.960148\n",
       "Treg        0.999333  0.976547  0.941657\n",
       "Tumor       0.994432  0.994871  0.972666\n",
       "pDC         0.998908  0.932366  0.847390\n",
       "plasma      0.997987  0.977662  0.919795"
      ]
     },
     "execution_count": 57,
     "metadata": {},
     "output_type": "execute_result"
    }
   ],
   "source": [
    "evaluation[\"results_per_celltypes\"]"
   ]
  },
  {
   "cell_type": "markdown",
   "id": "ff4cc002-21a8-4038-b192-cda86ea771a4",
   "metadata": {},
   "source": [
    "#### Sklearn report:"
   ]
  },
  {
   "cell_type": "code",
   "execution_count": 58,
   "id": "c31d8615-157f-44eb-b62e-71eef4f4df1d",
   "metadata": {},
   "outputs": [
    {
     "name": "stdout",
     "output_type": "stream",
     "text": [
      "              precision    recall  f1-score   support\n",
      "\n",
      "           B       0.94      0.92      0.93       729\n",
      "         BnT       0.89      0.90      0.90      1022\n",
      "         CD4       0.90      0.89      0.89      1926\n",
      "         CD8       0.93      0.94      0.93      3156\n",
      "          DC       0.68      0.61      0.64       715\n",
      "       HLADR       0.81      0.54      0.64       555\n",
      "    MacCD163       0.83      0.85      0.84      2346\n",
      "       Mural       0.95      0.95      0.95      3326\n",
      "          NK       0.85      0.76      0.80       168\n",
      "  Neutrophil       0.95      0.96      0.96      1079\n",
      "        Treg       0.93      0.94      0.94       857\n",
      "       Tumor       0.96      0.97      0.97     18219\n",
      "         pDC       0.86      0.85      0.85       249\n",
      "      plasma       0.93      0.92      0.92      1172\n",
      "\n",
      "    accuracy                           0.93     35519\n",
      "   macro avg       0.89      0.86      0.87     35519\n",
      "weighted avg       0.93      0.93      0.93     35519\n",
      "\n"
     ]
    }
   ],
   "source": [
    "print(evaluation[\"sklearn_report\"])"
   ]
  },
  {
   "cell_type": "markdown",
   "id": "8b995140-0774-4347-942d-f1846d3efa99",
   "metadata": {},
   "source": [
    "## Random Forest Classifier"
   ]
  },
  {
   "cell_type": "code",
   "execution_count": 13,
   "id": "7608be4d-2fa5-45dc-be26-165feab33aec",
   "metadata": {},
   "outputs": [],
   "source": [
    "from sklearn.model_selection import GridSearchCV\n",
    "from sklearn.ensemble import RandomForestClassifier"
   ]
  },
  {
   "cell_type": "code",
   "execution_count": 14,
   "id": "2f6c89e9-0c43-4be8-8e8b-abeccead1486",
   "metadata": {},
   "outputs": [],
   "source": [
    "parameters = {'n_estimators':[100, 250],\n",
    "              \"max_depth\":[10, 15, 17],\n",
    "              \"criterion\":['gini'], \n",
    "              'max_features':['sqrt'], \n",
    "              \"min_samples_split\":[10]}"
   ]
  },
  {
   "cell_type": "code",
   "execution_count": 15,
   "id": "adb62433-6157-4120-9d5d-c787e5febfd6",
   "metadata": {},
   "outputs": [],
   "source": [
    "tree_grid = RandomForestClassifier(random_state=12)"
   ]
  },
  {
   "cell_type": "code",
   "execution_count": null,
   "id": "7ddcc3d6-531f-4b9e-9cbc-88b61d3d2a6b",
   "metadata": {},
   "outputs": [],
   "source": [
    "grid_search = GridSearchCV(tree_grid, \n",
    "                           param_grid=parameters, \n",
    "                           cv=folds, \n",
    "                           scoring='accuracy', \n",
    "                           refit=True,\n",
    "                           verbose = 3, \n",
    "                           n_jobs = -1)\n",
    "grid_res = grid_search.fit(X_train, y_train)"
   ]
  },
  {
   "cell_type": "code",
   "execution_count": 17,
   "id": "2070d0b8-3d2b-497a-8714-4680fa6d2c2c",
   "metadata": {},
   "outputs": [
    {
     "data": {
      "text/plain": [
       "0.9547925120892838"
      ]
     },
     "execution_count": 17,
     "metadata": {},
     "output_type": "execute_result"
    }
   ],
   "source": [
    "grid_res.best_score_"
   ]
  },
  {
   "cell_type": "code",
   "execution_count": 18,
   "id": "65acbb2d-4f7d-465c-b4ff-50deae3cca13",
   "metadata": {},
   "outputs": [
    {
     "data": {
      "text/plain": [
       "{'criterion': 'gini',\n",
       " 'max_depth': 17,\n",
       " 'max_features': 'sqrt',\n",
       " 'min_samples_split': 10,\n",
       " 'n_estimators': 250}"
      ]
     },
     "execution_count": 18,
     "metadata": {},
     "output_type": "execute_result"
    }
   ],
   "source": [
    "grid_res.best_params_"
   ]
  },
  {
   "cell_type": "code",
   "execution_count": 19,
   "id": "9c54e0fa-1e2d-46d1-9352-570c0877d303",
   "metadata": {},
   "outputs": [],
   "source": [
    "SAVE_MODEL=False\n",
    "\n",
    "if SAVE_MODEL:\n",
    "    with open(\"./models/best_RF.pkl\", \"wb\") as f:\n",
    "        pickle.dump(grid_res.best_estimator_, f)"
   ]
  },
  {
   "cell_type": "markdown",
   "id": "59b6dbc5-9202-4475-9bfa-9d38c1b2c8c0",
   "metadata": {},
   "source": [
    "### Model evaluation on the test set"
   ]
  },
  {
   "cell_type": "code",
   "execution_count": 20,
   "id": "245d30b0-c411-449a-9fbd-5643b74c4dc6",
   "metadata": {},
   "outputs": [],
   "source": [
    "from evaluate_utils import evaluate"
   ]
  },
  {
   "cell_type": "code",
   "execution_count": 21,
   "id": "fd7927f1-db26-4183-bed1-cbab1ec10850",
   "metadata": {},
   "outputs": [],
   "source": [
    "%%capture\n",
    "with open(\"./models/best_RF.pkl\", \"rb\") as f:\n",
    "    best_model = pickle.load(f)\n",
    "\n",
    "evaluation = evaluate(best_model, X_test, y_test)"
   ]
  },
  {
   "cell_type": "markdown",
   "id": "cfebcd7f-8659-41ca-a766-10f7a69efc00",
   "metadata": {},
   "source": [
    "#### Global metrics (`ACC`, `macro-F1`):"
   ]
  },
  {
   "cell_type": "code",
   "execution_count": 22,
   "id": "8ec9a506-97f4-46a3-9895-d50ef686f04d",
   "metadata": {},
   "outputs": [
    {
     "name": "stdout",
     "output_type": "stream",
     "text": [
      "ACC on the test set: 0.9539401447112813\n",
      "macro_F1 on the test set: 0.8970822429955623\n"
     ]
    }
   ],
   "source": [
    "print(f\"ACC on the test set: {evaluation[\"ACC_glob\"]}\")\n",
    "print(f\"macro_F1 on the test set: {evaluation[\"macro_F1\"]}\")"
   ]
  },
  {
   "cell_type": "markdown",
   "id": "dfed5e2e-0b47-4d4a-a632-e348a9ac8b40",
   "metadata": {},
   "source": [
    "#### Confusion matrix:"
   ]
  },
  {
   "cell_type": "code",
   "execution_count": 23,
   "id": "c0fd1e50-4e48-42d2-b68a-addc2e2165fb",
   "metadata": {},
   "outputs": [
    {
     "data": {
      "image/png": "[encoded data removed]",
      "text/plain": [
       "<Figure size 1100x800 with 2 Axes>"
      ]
     },
     "execution_count": 23,
     "metadata": {},
     "output_type": "execute_result"
    }
   ],
   "source": [
    "evaluation[\"conf_plot\"]"
   ]
  },
  {
   "cell_type": "markdown",
   "id": "14213095-a979-4a1b-8d64-4334c1d7eb20",
   "metadata": {},
   "source": [
    "#### AUC, Average Precision Score (AP) and ACC across cell types"
   ]
  },
  {
   "cell_type": "code",
   "execution_count": 24,
   "id": "17899fd1-7a17-43c4-beeb-c9847ac5592c",
   "metadata": {},
   "outputs": [
    {
     "data": {
      "text/html": [
       "<div>\n",
       "<style scoped>\n",
       "    .dataframe tbody tr th:only-of-type {\n",
       "        vertical-align: middle;\n",
       "    }\n",
       "\n",
       "    .dataframe tbody tr th {\n",
       "        vertical-align: top;\n",
       "    }\n",
       "\n",
       "    .dataframe thead th {\n",
       "        text-align: right;\n",
       "    }\n",
       "</style>\n",
       "<table border=\"1\" class=\"dataframe\">\n",
       "  <thead>\n",
       "    <tr style=\"text-align: right;\">\n",
       "      <th></th>\n",
       "      <th>AUC</th>\n",
       "      <th>AP</th>\n",
       "      <th>ACC</th>\n",
       "    </tr>\n",
       "  </thead>\n",
       "  <tbody>\n",
       "    <tr>\n",
       "      <th>B</th>\n",
       "      <td>0.999635</td>\n",
       "      <td>0.985115</td>\n",
       "      <td>0.902606</td>\n",
       "    </tr>\n",
       "    <tr>\n",
       "      <th>BnT</th>\n",
       "      <td>0.999469</td>\n",
       "      <td>0.984065</td>\n",
       "      <td>0.942270</td>\n",
       "    </tr>\n",
       "    <tr>\n",
       "      <th>CD4</th>\n",
       "      <td>0.998036</td>\n",
       "      <td>0.975727</td>\n",
       "      <td>0.928868</td>\n",
       "    </tr>\n",
       "    <tr>\n",
       "      <th>CD8</th>\n",
       "      <td>0.999268</td>\n",
       "      <td>0.992667</td>\n",
       "      <td>0.978137</td>\n",
       "    </tr>\n",
       "    <tr>\n",
       "      <th>DC</th>\n",
       "      <td>0.996339</td>\n",
       "      <td>0.913437</td>\n",
       "      <td>0.758042</td>\n",
       "    </tr>\n",
       "    <tr>\n",
       "      <th>HLADR</th>\n",
       "      <td>0.990461</td>\n",
       "      <td>0.804920</td>\n",
       "      <td>0.592793</td>\n",
       "    </tr>\n",
       "    <tr>\n",
       "      <th>MacCD163</th>\n",
       "      <td>0.997506</td>\n",
       "      <td>0.966370</td>\n",
       "      <td>0.918585</td>\n",
       "    </tr>\n",
       "    <tr>\n",
       "      <th>Mural</th>\n",
       "      <td>0.999653</td>\n",
       "      <td>0.996653</td>\n",
       "      <td>0.977150</td>\n",
       "    </tr>\n",
       "    <tr>\n",
       "      <th>NK</th>\n",
       "      <td>0.999771</td>\n",
       "      <td>0.956012</td>\n",
       "      <td>0.648810</td>\n",
       "    </tr>\n",
       "    <tr>\n",
       "      <th>Neutrophil</th>\n",
       "      <td>0.999860</td>\n",
       "      <td>0.995929</td>\n",
       "      <td>0.954588</td>\n",
       "    </tr>\n",
       "    <tr>\n",
       "      <th>Treg</th>\n",
       "      <td>0.999632</td>\n",
       "      <td>0.988386</td>\n",
       "      <td>0.961494</td>\n",
       "    </tr>\n",
       "    <tr>\n",
       "      <th>Tumor</th>\n",
       "      <td>0.997847</td>\n",
       "      <td>0.998024</td>\n",
       "      <td>0.982107</td>\n",
       "    </tr>\n",
       "    <tr>\n",
       "      <th>pDC</th>\n",
       "      <td>0.999264</td>\n",
       "      <td>0.955622</td>\n",
       "      <td>0.686747</td>\n",
       "    </tr>\n",
       "    <tr>\n",
       "      <th>plasma</th>\n",
       "      <td>0.999385</td>\n",
       "      <td>0.986029</td>\n",
       "      <td>0.924061</td>\n",
       "    </tr>\n",
       "  </tbody>\n",
       "</table>\n",
       "</div>"
      ],
      "text/plain": [
       "                 AUC        AP       ACC\n",
       "B           0.999635  0.985115  0.902606\n",
       "BnT         0.999469  0.984065  0.942270\n",
       "CD4         0.998036  0.975727  0.928868\n",
       "CD8         0.999268  0.992667  0.978137\n",
       "DC          0.996339  0.913437  0.758042\n",
       "HLADR       0.990461  0.804920  0.592793\n",
       "MacCD163    0.997506  0.966370  0.918585\n",
       "Mural       0.999653  0.996653  0.977150\n",
       "NK          0.999771  0.956012  0.648810\n",
       "Neutrophil  0.999860  0.995929  0.954588\n",
       "Treg        0.999632  0.988386  0.961494\n",
       "Tumor       0.997847  0.998024  0.982107\n",
       "pDC         0.999264  0.955622  0.686747\n",
       "plasma      0.999385  0.986029  0.924061"
      ]
     },
     "execution_count": 24,
     "metadata": {},
     "output_type": "execute_result"
    }
   ],
   "source": [
    "evaluation[\"results_per_celltypes\"]"
   ]
  },
  {
   "cell_type": "markdown",
   "id": "3c843768-5579-46fd-9de7-3f542bb8b76f",
   "metadata": {},
   "source": [
    "#### Sklearn Report"
   ]
  },
  {
   "cell_type": "code",
   "execution_count": 25,
   "id": "b77fb593-ceee-4a9d-9b9b-215ee029a5e5",
   "metadata": {},
   "outputs": [
    {
     "name": "stdout",
     "output_type": "stream",
     "text": [
      "              precision    recall  f1-score   support\n",
      "\n",
      "           B       0.96      0.90      0.93       729\n",
      "         BnT       0.91      0.94      0.92      1022\n",
      "         CD4       0.92      0.93      0.92      1926\n",
      "         CD8       0.94      0.98      0.96      3156\n",
      "          DC       0.88      0.76      0.81       715\n",
      "       HLADR       0.89      0.59      0.71       555\n",
      "    MacCD163       0.88      0.92      0.90      2346\n",
      "       Mural       0.97      0.98      0.97      3326\n",
      "          NK       0.99      0.65      0.78       168\n",
      "  Neutrophil       0.98      0.95      0.97      1079\n",
      "        Treg       0.94      0.96      0.95       857\n",
      "       Tumor       0.97      0.98      0.98     18219\n",
      "         pDC       0.98      0.69      0.81       249\n",
      "      plasma       0.96      0.92      0.94      1172\n",
      "\n",
      "    accuracy                           0.95     35519\n",
      "   macro avg       0.94      0.87      0.90     35519\n",
      "weighted avg       0.95      0.95      0.95     35519\n",
      "\n"
     ]
    }
   ],
   "source": [
    "print(evaluation[\"sklearn_report\"])"
   ]
  },
  {
   "cell_type": "markdown",
   "id": "522fd446-7bdc-4f1b-a549-b4ab4e90aabc",
   "metadata": {},
   "source": [
    "## XGBoost"
   ]
  },
  {
   "cell_type": "code",
   "execution_count": 20,
   "id": "379a6c61-1045-426b-8ed2-475b9b5168d3",
   "metadata": {},
   "outputs": [],
   "source": [
    "from xgboost import XGBClassifier\n",
    "from sklearn.model_selection import GridSearchCV\n",
    "from sklearn.preprocessing import LabelEncoder"
   ]
  },
  {
   "cell_type": "code",
   "execution_count": 21,
   "id": "41864ea3-f165-4aac-9a16-7dfadf256dc9",
   "metadata": {},
   "outputs": [],
   "source": [
    "le = LabelEncoder()\n",
    "y_train = le.fit_transform(y_train)"
   ]
  },
  {
   "cell_type": "markdown",
   "id": "ff855d33-f808-45a8-bdef-1505c3412a59",
   "metadata": {},
   "source": [
    "### Model Training"
   ]
  },
  {
   "cell_type": "code",
   "execution_count": 22,
   "id": "ab675b77-d8ae-4225-8de8-2083e255b13c",
   "metadata": {},
   "outputs": [],
   "source": [
    "parameters = {'n_estimators':[100, 250],\n",
    "              \"max_depth\":[6, 15]}"
   ]
  },
  {
   "cell_type": "code",
   "execution_count": 23,
   "id": "344f0397-6941-4f46-8110-c375847f772b",
   "metadata": {},
   "outputs": [],
   "source": [
    "model_XGB = XGBClassifier(random_state=42, booster='gbtree')"
   ]
  },
  {
   "cell_type": "code",
   "execution_count": null,
   "id": "1bb1a52e-efe1-4ae7-a171-e6fed3c6216d",
   "metadata": {},
   "outputs": [],
   "source": [
    "grid_search = GridSearchCV(model_XGB, \n",
    "                           param_grid=parameters, \n",
    "                           cv=folds, \n",
    "                           scoring='accuracy', \n",
    "                           refit=True,\n",
    "                           verbose = 4, \n",
    "                           n_jobs = -1)\n",
    "grid_res = grid_search.fit(X_train, y_train)"
   ]
  },
  {
   "cell_type": "code",
   "execution_count": 25,
   "id": "7f18983a-4070-4929-9a32-a9df38222935",
   "metadata": {},
   "outputs": [
    {
     "data": {
      "text/plain": [
       "0.9744624134571825"
      ]
     },
     "execution_count": 25,
     "metadata": {},
     "output_type": "execute_result"
    }
   ],
   "source": [
    "# Best results of cross-calidation evaluation:\n",
    "grid_res.best_score_"
   ]
  },
  {
   "cell_type": "code",
   "execution_count": 26,
   "id": "b780259a-2075-405b-8126-916dc2826c78",
   "metadata": {},
   "outputs": [
    {
     "data": {
      "text/plain": [
       "{'max_depth': 15, 'n_estimators': 250}"
      ]
     },
     "execution_count": 26,
     "metadata": {},
     "output_type": "execute_result"
    }
   ],
   "source": [
    "grid_res.best_params_"
   ]
  },
  {
   "cell_type": "code",
   "execution_count": 66,
   "id": "e2970468-ff77-45a9-9c12-fcc3b5678aba",
   "metadata": {},
   "outputs": [],
   "source": [
    "SAVE_MODEL=False\n",
    "\n",
    "if SAVE_MODEL:\n",
    "    with open(\"./models/best_XGB.pkl\", \"wb\") as f:\n",
    "        pickle.dump(grid_res.best_estimator_, f)"
   ]
  },
  {
   "cell_type": "markdown",
   "id": "1e7b681e-81bd-4217-984e-79430eccc5c7",
   "metadata": {},
   "source": [
    "### Evaluation on the test set"
   ]
  },
  {
   "cell_type": "code",
   "execution_count": 28,
   "id": "2dd94edd-5c58-4596-a72b-70037d447c78",
   "metadata": {},
   "outputs": [],
   "source": [
    "from evaluate_utils import evaluate"
   ]
  },
  {
   "cell_type": "markdown",
   "id": "667d5bc9-e651-4c2a-8102-b324f9935567",
   "metadata": {},
   "source": [
    "Before running the following cell, it is important to make an instance of label encoder (le) and fit it to training data."
   ]
  },
  {
   "cell_type": "code",
   "execution_count": 30,
   "id": "ecad3699-6b39-49e3-adee-ae99088b7b9b",
   "metadata": {},
   "outputs": [],
   "source": [
    "%%capture\n",
    "with open(\"./models/best_XGB.pkl\", \"rb\") as f:\n",
    "    best_model = pickle.load(f)\n",
    "\n",
    "evaluation = evaluate(best_model, X_test, y_test, le)"
   ]
  },
  {
   "cell_type": "markdown",
   "id": "f8fbcb41-597f-470f-b5d5-1bf5f7845cf8",
   "metadata": {},
   "source": [
    "#### Global metrics (`ACC`, `macro-F1`):"
   ]
  },
  {
   "cell_type": "code",
   "execution_count": 31,
   "id": "790f2c6d-3b40-4925-bca7-b34ffa768dd9",
   "metadata": {},
   "outputs": [
    {
     "name": "stdout",
     "output_type": "stream",
     "text": [
      "ACC on the test set: 0.9750274500971311\n",
      "macro_F1 on the test set: 0.953410132101712\n"
     ]
    }
   ],
   "source": [
    "print(f\"ACC on the test set: {evaluation[\"ACC_glob\"]}\")\n",
    "print(f\"macro_F1 on the test set: {evaluation[\"macro_F1\"]}\")"
   ]
  },
  {
   "cell_type": "markdown",
   "id": "ce271e77-9cfe-4a0c-84f6-cd3a6547a15a",
   "metadata": {},
   "source": [
    "#### Confusion matrix:"
   ]
  },
  {
   "cell_type": "code",
   "execution_count": 32,
   "id": "1df3e15d-f6e8-4cb5-b10c-f958dce0c2e4",
   "metadata": {},
   "outputs": [
    {
     "data": {
      "image/png": "[encoded data removed]",
      "text/plain": [
       "<Figure size 1100x800 with 2 Axes>"
      ]
     },
     "execution_count": 32,
     "metadata": {},
     "output_type": "execute_result"
    }
   ],
   "source": [
    "evaluation[\"conf_plot\"]"
   ]
  },
  {
   "cell_type": "markdown",
   "id": "8bc62e36-df14-417a-ac82-c55cb1354fdd",
   "metadata": {},
   "source": [
    "#### AUC, Average Precision Score (AP) and ACC across cell types"
   ]
  },
  {
   "cell_type": "code",
   "execution_count": 39,
   "id": "7e565faa-5fe1-43a2-a7a2-11e6515f9cfd",
   "metadata": {},
   "outputs": [
    {
     "data": {
      "text/html": [
       "<div>\n",
       "<style scoped>\n",
       "    .dataframe tbody tr th:only-of-type {\n",
       "        vertical-align: middle;\n",
       "    }\n",
       "\n",
       "    .dataframe tbody tr th {\n",
       "        vertical-align: top;\n",
       "    }\n",
       "\n",
       "    .dataframe thead th {\n",
       "        text-align: right;\n",
       "    }\n",
       "</style>\n",
       "<table border=\"1\" class=\"dataframe\">\n",
       "  <thead>\n",
       "    <tr style=\"text-align: right;\">\n",
       "      <th></th>\n",
       "      <th>AUC</th>\n",
       "      <th>AP</th>\n",
       "      <th>ACC</th>\n",
       "    </tr>\n",
       "  </thead>\n",
       "  <tbody>\n",
       "    <tr>\n",
       "      <th>B</th>\n",
       "      <td>0.999856</td>\n",
       "      <td>0.995667</td>\n",
       "      <td>0.975309</td>\n",
       "    </tr>\n",
       "    <tr>\n",
       "      <th>BnT</th>\n",
       "      <td>0.999888</td>\n",
       "      <td>0.996296</td>\n",
       "      <td>0.977495</td>\n",
       "    </tr>\n",
       "    <tr>\n",
       "      <th>CD4</th>\n",
       "      <td>0.999367</td>\n",
       "      <td>0.991640</td>\n",
       "      <td>0.955867</td>\n",
       "    </tr>\n",
       "    <tr>\n",
       "      <th>CD8</th>\n",
       "      <td>0.999775</td>\n",
       "      <td>0.997667</td>\n",
       "      <td>0.984474</td>\n",
       "    </tr>\n",
       "    <tr>\n",
       "      <th>DC</th>\n",
       "      <td>0.999112</td>\n",
       "      <td>0.966680</td>\n",
       "      <td>0.889510</td>\n",
       "    </tr>\n",
       "    <tr>\n",
       "      <th>HLADR</th>\n",
       "      <td>0.997275</td>\n",
       "      <td>0.934580</td>\n",
       "      <td>0.803604</td>\n",
       "    </tr>\n",
       "    <tr>\n",
       "      <th>MacCD163</th>\n",
       "      <td>0.999120</td>\n",
       "      <td>0.988026</td>\n",
       "      <td>0.941176</td>\n",
       "    </tr>\n",
       "    <tr>\n",
       "      <th>Mural</th>\n",
       "      <td>0.999944</td>\n",
       "      <td>0.999462</td>\n",
       "      <td>0.986771</td>\n",
       "    </tr>\n",
       "    <tr>\n",
       "      <th>NK</th>\n",
       "      <td>0.999877</td>\n",
       "      <td>0.981627</td>\n",
       "      <td>0.940476</td>\n",
       "    </tr>\n",
       "    <tr>\n",
       "      <th>Neutrophil</th>\n",
       "      <td>0.999966</td>\n",
       "      <td>0.998930</td>\n",
       "      <td>0.982391</td>\n",
       "    </tr>\n",
       "    <tr>\n",
       "      <th>Treg</th>\n",
       "      <td>0.999933</td>\n",
       "      <td>0.997339</td>\n",
       "      <td>0.980163</td>\n",
       "    </tr>\n",
       "    <tr>\n",
       "      <th>Tumor</th>\n",
       "      <td>0.999303</td>\n",
       "      <td>0.999348</td>\n",
       "      <td>0.986113</td>\n",
       "    </tr>\n",
       "    <tr>\n",
       "      <th>pDC</th>\n",
       "      <td>0.999551</td>\n",
       "      <td>0.979819</td>\n",
       "      <td>0.919679</td>\n",
       "    </tr>\n",
       "    <tr>\n",
       "      <th>plasma</th>\n",
       "      <td>0.999890</td>\n",
       "      <td>0.996718</td>\n",
       "      <td>0.980375</td>\n",
       "    </tr>\n",
       "  </tbody>\n",
       "</table>\n",
       "</div>"
      ],
      "text/plain": [
       "                 AUC        AP       ACC\n",
       "B           0.999856  0.995667  0.975309\n",
       "BnT         0.999888  0.996296  0.977495\n",
       "CD4         0.999367  0.991640  0.955867\n",
       "CD8         0.999775  0.997667  0.984474\n",
       "DC          0.999112  0.966680  0.889510\n",
       "HLADR       0.997275  0.934580  0.803604\n",
       "MacCD163    0.999120  0.988026  0.941176\n",
       "Mural       0.999944  0.999462  0.986771\n",
       "NK          0.999877  0.981627  0.940476\n",
       "Neutrophil  0.999966  0.998930  0.982391\n",
       "Treg        0.999933  0.997339  0.980163\n",
       "Tumor       0.999303  0.999348  0.986113\n",
       "pDC         0.999551  0.979819  0.919679\n",
       "plasma      0.999890  0.996718  0.980375"
      ]
     },
     "execution_count": 39,
     "metadata": {},
     "output_type": "execute_result"
    }
   ],
   "source": [
    "evaluation[\"results_per_celltypes\"]"
   ]
  },
  {
   "cell_type": "markdown",
   "id": "8b4c3e06-8a15-4800-8875-84b985200f4e",
   "metadata": {},
   "source": [
    "#### Sklearn report:"
   ]
  },
  {
   "cell_type": "code",
   "execution_count": 40,
   "id": "95996eab-0c1d-4b90-90f9-d66dafc62104",
   "metadata": {},
   "outputs": [
    {
     "name": "stdout",
     "output_type": "stream",
     "text": [
      "              precision    recall  f1-score   support\n",
      "\n",
      "           B       0.98      0.98      0.98       729\n",
      "         BnT       0.97      0.98      0.97      1022\n",
      "         CD4       0.95      0.96      0.95      1926\n",
      "         CD8       0.97      0.98      0.98      3156\n",
      "          DC       0.90      0.89      0.90       715\n",
      "       HLADR       0.93      0.80      0.86       555\n",
      "    MacCD163       0.93      0.94      0.93      2346\n",
      "       Mural       0.99      0.99      0.99      3326\n",
      "          NK       0.92      0.94      0.93       168\n",
      "  Neutrophil       0.98      0.98      0.98      1079\n",
      "        Treg       0.96      0.98      0.97       857\n",
      "       Tumor       0.99      0.99      0.99     18219\n",
      "         pDC       0.95      0.92      0.94       249\n",
      "      plasma       0.98      0.98      0.98      1172\n",
      "\n",
      "    accuracy                           0.98     35519\n",
      "   macro avg       0.96      0.95      0.95     35519\n",
      "weighted avg       0.97      0.98      0.97     35519\n",
      "\n"
     ]
    }
   ],
   "source": [
    "print(evaluation[\"sklearn_report\"])"
   ]
  },
  {
   "cell_type": "code",
   "execution_count": null,
   "id": "054395f0-125b-498d-94cb-df05efb4b3c2",
   "metadata": {},
   "outputs": [],
   "source": []
  }
 ],
 "metadata": {
  "kernelspec": {
   "display_name": "Python 3 (ipykernel)",
   "language": "python",
   "name": "python3"
  },
  "language_info": {
   "codemirror_mode": {
    "name": "ipython",
    "version": 3
   },
   "file_extension": ".py",
   "mimetype": "text/x-python",
   "name": "python",
   "nbconvert_exporter": "python",
   "pygments_lexer": "ipython3",
   "version": "3.12.2"
  }
 },
 "nbformat": 4,
 "nbformat_minor": 5
}
